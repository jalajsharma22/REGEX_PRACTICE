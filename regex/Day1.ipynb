{
 "cells": [
  {
   "cell_type": "code",
   "execution_count": 2,
   "id": "22947c0e",
   "metadata": {},
   "outputs": [
    {
     "name": "stdout",
     "output_type": "stream",
     "text": [
      "hello world\n",
      "hello jalaj\n"
     ]
    }
   ],
   "source": [
    "print(\"hello world\")\n",
    "print(\"hello jalaj\")"
   ]
  },
  {
   "cell_type": "code",
   "execution_count": 3,
   "id": "0cff7e50",
   "metadata": {},
   "outputs": [
    {
     "name": "stdout",
     "output_type": "stream",
     "text": [
      "hello world-hello jalaj\n"
     ]
    }
   ],
   "source": [
    "print(\"hello world\",end=\"-\")\n",
    "print(\"hello jalaj\")"
   ]
  },
  {
   "cell_type": "code",
   "execution_count": 5,
   "id": "5220f0e8",
   "metadata": {},
   "outputs": [
    {
     "name": "stdout",
     "output_type": "stream",
     "text": [
      "<class 'int'>\n"
     ]
    }
   ],
   "source": [
    "#check_data_type\n",
    "\n",
    "age = 100\n",
    "print(type(age))"
   ]
  },
  {
   "cell_type": "code",
   "execution_count": 6,
   "id": "82b1b82f",
   "metadata": {},
   "outputs": [
    {
     "name": "stdout",
     "output_type": "stream",
     "text": [
      "company is  regex year is 2024\n"
     ]
    }
   ],
   "source": [
    "company=\"regex\"\n",
    "year=2024\n",
    "print(f\"company is  {company} year is {year}\")"
   ]
  },
  {
   "cell_type": "code",
   "execution_count": 7,
   "id": "7e7fb90c",
   "metadata": {},
   "outputs": [
    {
     "name": "stdout",
     "output_type": "stream",
     "text": [
      "hi  userjalaj\n",
      "hi  userjalaj\n"
     ]
    }
   ],
   "source": [
    "username=\"jalaj\"\n",
    "msg=f\"hi  user{username}\"\n",
    "\n",
    "print(msg)\n",
    "username=\"aman\"\n",
    "print(msg)"
   ]
  },
  {
   "cell_type": "code",
   "execution_count": 8,
   "id": "f804ac27",
   "metadata": {},
   "outputs": [
    {
     "data": {
      "text/plain": [
       "6.666666666666667"
      ]
     },
     "execution_count": 8,
     "metadata": {},
     "output_type": "execute_result"
    }
   ],
   "source": [
    "#operators\n",
    "#airthmatic\n",
    "20/3"
   ]
  },
  {
   "cell_type": "code",
   "execution_count": null,
   "id": "4451e5ff",
   "metadata": {},
   "outputs": [],
   "source": [
    "20//3"
   ]
  },
  {
   "cell_type": "code",
   "execution_count": 9,
   "id": "a1c8ccb5",
   "metadata": {},
   "outputs": [
    {
     "data": {
      "text/plain": [
       "12.0"
      ]
     },
     "execution_count": 9,
     "metadata": {},
     "output_type": "execute_result"
    }
   ],
   "source": [
    "1+5*4/2-7+8"
   ]
  },
  {
   "cell_type": "code",
   "execution_count": 10,
   "id": "8e563f8d",
   "metadata": {},
   "outputs": [
    {
     "data": {
      "text/plain": [
       "2"
      ]
     },
     "execution_count": 10,
     "metadata": {},
     "output_type": "execute_result"
    }
   ],
   "source": [
    "20%3"
   ]
  },
  {
   "cell_type": "code",
   "execution_count": 11,
   "id": "0616ae8e",
   "metadata": {},
   "outputs": [
    {
     "data": {
      "text/plain": [
       "81"
      ]
     },
     "execution_count": 11,
     "metadata": {},
     "output_type": "execute_result"
    }
   ],
   "source": [
    "3**4"
   ]
  },
  {
   "cell_type": "code",
   "execution_count": null,
   "id": "558cc924",
   "metadata": {},
   "outputs": [],
   "source": [
    "#**\n",
    "#* / // %\n",
    "# + -"
   ]
  },
  {
   "cell_type": "code",
   "execution_count": 12,
   "id": "10634caa",
   "metadata": {},
   "outputs": [
    {
     "name": "stdout",
     "output_type": "stream",
     "text": [
      "15\n"
     ]
    }
   ],
   "source": [
    "#assignment\n",
    "x=10\n",
    "x=x+5 #x+=5\n",
    "print(x)"
   ]
  },
  {
   "cell_type": "code",
   "execution_count": 13,
   "id": "3fb5e287",
   "metadata": {},
   "outputs": [
    {
     "name": "stdout",
     "output_type": "stream",
     "text": [
      "125\n"
     ]
    }
   ],
   "source": [
    "x=5\n",
    "x**=3\n",
    "print(x)"
   ]
  },
  {
   "cell_type": "code",
   "execution_count": 14,
   "id": "1140f14e",
   "metadata": {},
   "outputs": [
    {
     "data": {
      "text/plain": [
       "False"
      ]
     },
     "execution_count": 14,
     "metadata": {},
     "output_type": "execute_result"
    }
   ],
   "source": [
    "#logical\n",
    "#and or not\n",
    "x=10\n",
    "y=19\n",
    "x==10 and  y>19"
   ]
  },
  {
   "cell_type": "code",
   "execution_count": 15,
   "id": "d6260083",
   "metadata": {},
   "outputs": [
    {
     "data": {
      "text/plain": [
       "True"
      ]
     },
     "execution_count": 15,
     "metadata": {},
     "output_type": "execute_result"
    }
   ],
   "source": [
    "#membership &  identity\n",
    "\"j\" in \"jaipur\""
   ]
  },
  {
   "cell_type": "code",
   "execution_count": 16,
   "id": "3a9f7497",
   "metadata": {},
   "outputs": [
    {
     "name": "stdout",
     "output_type": "stream",
     "text": [
      "condition  is  false\n"
     ]
    }
   ],
   "source": [
    "#conditional_statement\n",
    "x=15\n",
    "if(x==10):\n",
    "    print(\"hello\")\n",
    "elif(x==12):\n",
    "    print(\"hey\")\n",
    "else:\n",
    "    print(\"condition  is  false\")\n",
    "\n",
    "    "
   ]
  },
  {
   "cell_type": "code",
   "execution_count": 17,
   "id": "00468803",
   "metadata": {},
   "outputs": [
    {
     "name": "stdout",
     "output_type": "stream",
     "text": [
      "enter no112\n",
      "enter no213\n",
      "enter no311\n",
      "12\n"
     ]
    }
   ],
   "source": [
    "#took 3 variable and find out minimum value\n",
    "x=int(input(\"enter no1\"))\n",
    "y=int(input(\"enter no2\"))\n",
    "z=int(input(\"enter no3\"))\n",
    "if(x<y):\n",
    "    print(x)\n",
    "elif(y<z):\n",
    "    print(y)\n",
    "elif(z<x):\n",
    "    print(z)    "
   ]
  },
  {
   "cell_type": "code",
   "execution_count": null,
   "id": "26c6b8d0",
   "metadata": {},
   "outputs": [],
   "source": [
    "'''\n",
    "take a input from the user and do following\n",
    "if the number is greater '''\n"
   ]
  },
  {
   "cell_type": "code",
   "execution_count": null,
   "id": "91750528",
   "metadata": {},
   "outputs": [],
   "source": [
    "x=int(input(\"enter no.\"))\n",
    "if(x>90):\n",
    "    print(\"excellent\")\n",
    "elif(x>70):\n",
    "    print(\"good\")\n",
    "elif(x>60):\n",
    "    print(\"average\")\n",
    "else:\n",
    "    print(\"bad\")"
   ]
  },
  {
   "cell_type": "code",
   "execution_count": null,
   "id": "aac43380",
   "metadata": {},
   "outputs": [],
   "source": [
    "'''if user give input then it print current date\n",
    "2 if user give input 2 then we have to create folder on desktop\n",
    "3 if user give input 3 then we create file desktop\n",
    "4 if user give input 4then we have to shut down window"
   ]
  },
  {
   "cell_type": "code",
   "execution_count": null,
   "id": "0e6dc2c8",
   "metadata": {},
   "outputs": [],
   "source": [
    "'''q1 user input on number of unit in integer\n",
    "-  for the starting 10 unit price  is 50rs each\n",
    "-for the next 20 unit price  will be 10rs\n",
    "calculate the total price\n",
    "100 => 500 +400 +700\n",
    "90\n",
    "70\n",
    "\n",
    "q2: take 3 number as input from a user as 3 three side of triangle and \n",
    "check weather it will create a triangle or not\n",
    "\n",
    "q3 take two number from the user and check weather both the number are divisible by 6\n",
    "(divisibility say it should be divided by 2 and 3)'''\n"
   ]
  },
  {
   "cell_type": "code",
   "execution_count": 5,
   "id": "a736cfb9",
   "metadata": {},
   "outputs": [
    {
     "name": "stdout",
     "output_type": "stream",
     "text": [
      "enter side 1 3\n",
      "enter side 2 4\n",
      "enter side 3 5\n",
      "it makes an triangle\n"
     ]
    }
   ],
   "source": [
    "a=int(input(\"enter side 1 \"))\n",
    "b=int(input(\"enter side 2 \"))\n",
    "c=int(input(\"enter side 3 \"))\n",
    "\n",
    "if (a+b>c and a+c>b and b+c>a):\n",
    "    print(\"it makes an triangle\")\n",
    "else:\n",
    "    print(\"not make an triangle\")"
   ]
  },
  {
   "cell_type": "code",
   "execution_count": 7,
   "id": "43563384",
   "metadata": {},
   "outputs": [
    {
     "name": "stdout",
     "output_type": "stream",
     "text": [
      "enter no. 1 12\n",
      "enter no. 2 11\n",
      "it is not divisble by 6\n"
     ]
    }
   ],
   "source": [
    "n1=int(input(\"enter no. 1 \"))\n",
    "n2=int(input(\"enter no. 2 \"))\n",
    "\n",
    "if(n1%2==0 and n1%3==0 and n2%2==0 and n2%3==0):\n",
    "    print(\"it is divisble by 6\")\n",
    "else:\n",
    "     print(\"it is not divisble by 6\")"
   ]
  },
  {
   "cell_type": "code",
   "execution_count": 3,
   "id": "3215249b",
   "metadata": {},
   "outputs": [
    {
     "name": "stdout",
     "output_type": "stream",
     "text": [
      "Enter the number of units: 12\n",
      "Total price: 540 rs\n"
     ]
    }
   ],
   "source": [
    "units = int(input(\"Enter the number of units: \"))\n",
    "\n",
    "total_price = 0\n",
    "\n",
    "if units >= 10:\n",
    "    total_price += 10 * 50  \n",
    "    units -= 10\n",
    "else:\n",
    "    total_price += units * 50  \n",
    "    units = 0\n",
    "\n",
    "if units >= 20:\n",
    "    total_price += 20 * 20  \n",
    "    units -= 20\n",
    "else:\n",
    "    total_price += units * 20  \n",
    "    units = 0\n",
    "\n",
    "total_price += units * 10  \n",
    "\n",
    "print(\"Total price:\", total_price, \"rs\")  \n"
   ]
  },
  {
   "cell_type": "code",
   "execution_count": null,
   "id": "e7be112b",
   "metadata": {},
   "outputs": [
    {
     "name": "stdout",
     "output_type": "stream",
     "text": [
      "Enter your choice (1, 2, 3, 4): 3\n"
     ]
    }
   ],
   "source": [
    "import os\n",
    "import datetime\n",
    "\n",
    "def print_current_datetime():\n",
    "    current_datetime = datetime.datetime.now()\n",
    "    print(\"Current Date and Time:\", current_datetime)\n",
    "\n",
    "def create_folder_on_desktop(folder_name):\n",
    "    desktop_path = os.path.join(os.path.expanduser('~'), 'Desktop')\n",
    "    folder_path = os.path.join(desktop_path, folder_name)\n",
    "    os.makedirs(folder_path)\n",
    "    print(\"Folder created successfully at:\", folder_path)\n",
    "\n",
    "def create_file_on_desktop(file_name):\n",
    "    desktop_path = os.path.join(os.path.expanduser('~'), 'Desktop')\n",
    "    file_path = os.path.join(desktop_path, file_name)\n",
    "    with open(file_path, 'w') as file:\n",
    "        file.write(\"This is a sample file created by the program.\")\n",
    "    print(\"File created successfully at:\", file_path)\n",
    "\n",
    "def shutdown_window():\n",
    "    os.system(\"shutdown /s /t 1\")\n",
    "    print(\"Shutting down the window...\")\n",
    "\n",
    "def main():\n",
    "    user_input = input(\"Enter your choice (1, 2, 3, 4): \")\n",
    "    \n",
    "    if user_input == '1':\n",
    "        print_current_datetime()\n",
    "    elif user_input == '2':\n",
    "        folder_name = input(\"Enter the folder name: \")\n",
    "        create_folder_on_desktop(folder_name)\n",
    "    elif user_input == '3':\n",
    "        file_name = input(\"Enter the file name: \")\n",
    "        create_file_on_desktop(file_name)\n",
    "    elif user_input == '4':\n",
    "        shutdown_window()\n",
    "    else:\n",
    "        print(\"Invalid input. Please enter 1, 2, 3, or 4.\")\n",
    "\n",
    "if __name__ == \"__main__\":\n",
    "    main()\n"
   ]
  },
  {
   "cell_type": "code",
   "execution_count": 1,
   "id": "1ae0a5ff",
   "metadata": {},
   "outputs": [
    {
     "name": "stdout",
     "output_type": "stream",
     "text": [
      "Enter a year: 2004\n",
      "2004 is a leap year.\n"
     ]
    }
   ],
   "source": [
    "year = int(input(\"Enter a year: \"))\n",
    "\n",
    "if (year % 4 == 0 and year % 100 != 0) or (year % 400 == 0):\n",
    "    print(year, \"is a leap year.\")\n",
    "else:\n",
    "    print(year, \"is not a leap year.\")\n"
   ]
  }
 ],
 "metadata": {
  "kernelspec": {
   "display_name": "Python 3 (ipykernel)",
   "language": "python",
   "name": "python3"
  },
  "language_info": {
   "codemirror_mode": {
    "name": "ipython",
    "version": 3
   },
   "file_extension": ".py",
   "mimetype": "text/x-python",
   "name": "python",
   "nbconvert_exporter": "python",
   "pygments_lexer": "ipython3",
   "version": "3.9.13"
  }
 },
 "nbformat": 4,
 "nbformat_minor": 5
}
