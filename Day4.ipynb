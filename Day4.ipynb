{
 "cells": [
  {
   "cell_type": "code",
   "execution_count": 8,
   "id": "58f57fd4",
   "metadata": {},
   "outputs": [
    {
     "name": "stdout",
     "output_type": "stream",
     "text": [
      "i : 1\n",
      "1\n",
      "i : 2\n",
      "3\n",
      "i : 3\n",
      "6\n",
      "i : 4\n",
      "10\n",
      "i : 5\n",
      "15\n",
      "i : 6\n",
      "21\n",
      "i : 7\n",
      "28\n",
      "28\n"
     ]
    }
   ],
   "source": [
    "for i in range(week,8):\n",
    "    print(f\"i : {i}\")\n",
    "    amt+=i\n",
    "    print(amt)\n",
    "print(amt)"
   ]
  },
  {
   "cell_type": "code",
   "execution_count": 7,
   "id": "93b25f97",
   "metadata": {},
   "outputs": [],
   "source": [
    "#homework\n",
    "\n",
    "#take input from user let day =10\n",
    "# in first week intial amount is 1 then 2 then 3 and upto 7 for a week\n",
    "# in second week intial amount is 2 then 3 then 4 and upto 8 for this week\n",
    "\n",
    "day =10\n",
    "amt=0\n",
    "week = 1"
   ]
  },
  {
   "cell_type": "code",
   "execution_count": 9,
   "id": "f3497380",
   "metadata": {},
   "outputs": [
    {
     "name": "stdout",
     "output_type": "stream",
     "text": [
      "hello\n"
     ]
    }
   ],
   "source": [
    "def msg():\n",
    "    print(\"hello\")\n",
    "msg()"
   ]
  },
  {
   "cell_type": "code",
   "execution_count": 16,
   "id": "7aa8de16",
   "metadata": {},
   "outputs": [
    {
     "name": "stdout",
     "output_type": "stream",
     "text": [
      "hello jalaj\n"
     ]
    }
   ],
   "source": [
    "#passing a parameter in func\n",
    "def msg(name):\n",
    "    print(f\"hello {name}\")\n",
    "\n",
    "#passing argument in a func\n",
    "msg(\"jalaj\")"
   ]
  },
  {
   "cell_type": "code",
   "execution_count": 11,
   "id": "4b17afa8",
   "metadata": {},
   "outputs": [
    {
     "name": "stdout",
     "output_type": "stream",
     "text": [
      "Before func : 10\n",
      "Before func : 10\n"
     ]
    }
   ],
   "source": [
    "# int is immutable\n",
    "def func(x):\n",
    "    x=x+5\n",
    "x=10\n",
    "print(\"Before func :\",x)\n",
    "func(x)\n",
    "print(\"Before func :\",x)"
   ]
  },
  {
   "cell_type": "code",
   "execution_count": 12,
   "id": "bea6e2f9",
   "metadata": {},
   "outputs": [
    {
     "name": "stdout",
     "output_type": "stream",
     "text": [
      "mylist :  [10, 20] 1616608252992\n",
      "[30, 20] 1616608252992\n",
      "[30, 20]\n"
     ]
    }
   ],
   "source": [
    "# list is mutable\n",
    "def func(x):\n",
    "    x[0]=30\n",
    "    print(x, id(x))\n",
    "mylist = [10,20]\n",
    "print(\"mylist : \",mylist,id(mylist))\n",
    "func(mylist)\n",
    "print(mylist)\n"
   ]
  },
  {
   "cell_type": "code",
   "execution_count": 13,
   "id": "d08e0627",
   "metadata": {},
   "outputs": [
    {
     "name": "stdout",
     "output_type": "stream",
     "text": [
      "avg\n",
      "good\n",
      "excellent\n"
     ]
    }
   ],
   "source": [
    "# make a func which take 3 parameters if first para is greater return Excellent if second is the good else avg\n",
    "def grades(a,b,c):\n",
    "    if (a>b and a>c):\n",
    "        return \"excellent\"\n",
    "    elif (b>a and b>c):\n",
    "        return \"good\"\n",
    "    else:\n",
    "        return \"avg\"\n",
    "    \n",
    "print(grades(1,2,3))\n",
    "print(grades(2,3,1))\n",
    "print(grades(3,2,1))"
   ]
  },
  {
   "cell_type": "code",
   "execution_count": 14,
   "id": "74334e54",
   "metadata": {},
   "outputs": [
    {
     "name": "stdout",
     "output_type": "stream",
     "text": [
      "9\n",
      "lcm is : 18\n"
     ]
    }
   ],
   "source": [
    "#func should return lcm of two number\n",
    "\n",
    "def greater(a,b):\n",
    "    if(a>b):\n",
    "        return a\n",
    "    else:\n",
    "        return b\n",
    "def lcm(a,b):\n",
    "    org = greater(a,b)\n",
    "    print(org)\n",
    "    while(True):\n",
    "        if (org%a==0 and org%b==0):\n",
    "            print(\"lcm is :\", org)\n",
    "            return\n",
    "        else:\n",
    "            org+=1 \n",
    "lcm(2,9)"
   ]
  },
  {
   "cell_type": "code",
   "execution_count": 18,
   "id": "28f7ed26",
   "metadata": {},
   "outputs": [
    {
     "name": "stdout",
     "output_type": "stream",
     "text": [
      "eid is : 12 \n",
      "ename is : jalaj\n",
      "email is : jalajsharma470@gmail.com\n"
     ]
    }
   ],
   "source": [
    "#positional argument\n",
    "\n",
    "def employee(eid,ename,email):\n",
    "    print(f\"eid is : {eid} \\nename is : {ename}\\nemail is : {email}\")\n",
    "\n",
    "# employee()\n",
    "# employee(\"jatin\", \"jatin@gmail.com\")\n",
    "\n",
    "employee(12, \"jalaj\", \"jalajsharma470@gmail.com\")"
   ]
  },
  {
   "cell_type": "code",
   "execution_count": 19,
   "id": "20b13229",
   "metadata": {},
   "outputs": [
    {
     "name": "stdout",
     "output_type": "stream",
     "text": [
      "eid is : 12 \n",
      "ename is : jalaj\n",
      "email is : jalajsharma470@gmail.com\n"
     ]
    }
   ],
   "source": [
    "# keyword argument\n",
    "def employee(eid,ename,email):\n",
    "    print(f\"eid is : {eid} \\nename is : {ename}\\nemail is : {email}\")\n",
    "\n",
    "employee(email= \"jalajsharma470@gmail.com\", eid = 12, ename = \"jalaj\")\n"
   ]
  },
  {
   "cell_type": "code",
   "execution_count": 20,
   "id": "32e1fa85",
   "metadata": {},
   "outputs": [
    {
     "name": "stdout",
     "output_type": "stream",
     "text": [
      "eid is : 12 \n",
      "ename is : jalaj\n",
      "email is : jalajsharma470@gmail.com\n"
     ]
    }
   ],
   "source": [
    "# default argument\n",
    "def employee(eid,ename,email=\"jalajsharma470@gmail.com\"):\n",
    "    print(f\"eid is : {eid} \\nename is : {ename}\\nemail is : {email}\")\n",
    "\n",
    "employee(12, \"jalaj\")\n"
   ]
  },
  {
   "cell_type": "code",
   "execution_count": 21,
   "id": "a6e3ec01",
   "metadata": {},
   "outputs": [
    {
     "name": "stdout",
     "output_type": "stream",
     "text": [
      "() <class 'tuple'>\n",
      "(3, 345, 4545) <class 'tuple'>\n"
     ]
    }
   ],
   "source": [
    "#variable Length argumennt (args)\n",
    "def facebook(*data):\n",
    "    print(data,type(data))\n",
    "facebook()\n",
    "facebook(3,345,4545)"
   ]
  },
  {
   "cell_type": "code",
   "execution_count": 22,
   "id": "8e4c3705",
   "metadata": {},
   "outputs": [
    {
     "name": "stdout",
     "output_type": "stream",
     "text": [
      "{} <class 'dict'>\n",
      "{'username': 'jalaj', 'salary': 100000} <class 'dict'>\n",
      "{'salary': 100000, 'username': 'jalaj'} <class 'dict'>\n"
     ]
    }
   ],
   "source": [
    "#keyword variable Length argumennt (kwargs)\n",
    "def facebook(**data):\n",
    "    print(data,type(data))\n",
    "facebook()\n",
    "facebook(username = \"jalaj\", salary = 100000)\n",
    "facebook(salary = 100000, username = \"jalaj\")"
   ]
  },
  {
   "cell_type": "code",
   "execution_count": 23,
   "id": "34f6579d",
   "metadata": {},
   "outputs": [
    {
     "name": "stdout",
     "output_type": "stream",
     "text": [
      "<function func at 0x000001786567E1F0>\n",
      "<function func at 0x000001786567E1F0>\n",
      "hello\n"
     ]
    }
   ],
   "source": [
    "def func():\n",
    "    print(\"hello\")\n",
    "\n",
    "x=func\n",
    "print(func)\n",
    "print(x)\n",
    "x()"
   ]
  },
  {
   "cell_type": "code",
   "execution_count": 24,
   "id": "67649356",
   "metadata": {},
   "outputs": [
    {
     "name": "stdout",
     "output_type": "stream",
     "text": [
      "2 9\n"
     ]
    }
   ],
   "source": [
    "def square(x):\n",
    "    return x*x\n",
    "\n",
    "def addno(x, func):\n",
    "    print(x,func(3))\n",
    "\n",
    "addno(2,square)"
   ]
  },
  {
   "cell_type": "code",
   "execution_count": 2,
   "id": "1bc98050",
   "metadata": {},
   "outputs": [
    {
     "name": "stdout",
     "output_type": "stream",
     "text": [
      "Lengths of  words: [5, 6, 5, 9]\n"
     ]
    }
   ],
   "source": [
    "def map_words(words):\n",
    "    return [len(word) for word in words]\n",
    "\n",
    "\n",
    "word_list = [\"jalaj\", \"sharma\", \"jatin\", \"vashistha\"]\n",
    "lengths_list = map_words(word_list)\n",
    "print(\"Lengths of  words:\", lengths_list)\n"
   ]
  },
  {
   "cell_type": "code",
   "execution_count": 4,
   "id": "cb000045",
   "metadata": {},
   "outputs": [
    {
     "name": "stdout",
     "output_type": "stream",
     "text": [
      "Length of the longest word : 9\n",
      "Length of the longest word : 9\n"
     ]
    }
   ],
   "source": [
    "def long(words):\n",
    "    if not words:\n",
    "        return 0  \n",
    "    max_length = len(words[0])\n",
    "    for word in words:\n",
    "        if len(word) > max_length:\n",
    "            max_length = len(word)\n",
    "    return max_length\n",
    "\n",
    "\n",
    "long_lam = lambda words: max([len(word) for word in words], default=0)\n",
    "\n",
    "\n",
    "word_list = [\"jalaj\", \"sharma\", \"jatin\", \"vashistha\"]\n",
    "print(\"Length of the longest word :\", long(word_list))\n",
    "print(\"Length of the longest word :\", long_lam(word_list))\n"
   ]
  },
  {
   "cell_type": "code",
   "execution_count": 5,
   "id": "bee5c3dd",
   "metadata": {},
   "outputs": [
    {
     "name": "stdout",
     "output_type": "stream",
     "text": [
      "longer than 5 ['sharma', 'vashistha']\n",
      "longer than 5 ['sharma', 'vashistha']\n"
     ]
    }
   ],
   "source": [
    "def long(words, n):\n",
    "    return [word for word in words if len(word) > n]\n",
    "\n",
    "\n",
    "long_lam = lambda words, n: list(filter(lambda word: len(word) > n, words))\n",
    "\n",
    "\n",
    "word_list = [\"jalaj\", \"sharma\", \"jatin\", \"vashistha\"]\n",
    "n = 5\n",
    "print(\"longer than\", n,long(word_list, n))\n",
    "print(\"longer than\", n,long_lam(word_list, n))\n"
   ]
  },
  {
   "cell_type": "code",
   "execution_count": 6,
   "id": "170603a0",
   "metadata": {},
   "outputs": [
    {
     "name": "stdout",
     "output_type": "stream",
     "text": [
      "{'a': 7, 'b': 14, 'c': 3, 'd': 3}\n"
     ]
    }
   ],
   "source": [
    "def freq(string):\n",
    "    frequency = {}\n",
    "    for char in string:\n",
    "        if char in frequency:\n",
    "            frequency[char] += 1\n",
    "        else:\n",
    "            frequency[char] = 1\n",
    "    return frequency\n",
    "\n",
    "\n",
    "result =freq(\"abbabcbdbabdbdbabababcbcbab\")\n",
    "print(result)\n"
   ]
  }
 ],
 "metadata": {
  "kernelspec": {
   "display_name": "Python 3 (ipykernel)",
   "language": "python",
   "name": "python3"
  },
  "language_info": {
   "codemirror_mode": {
    "name": "ipython",
    "version": 3
   },
   "file_extension": ".py",
   "mimetype": "text/x-python",
   "name": "python",
   "nbconvert_exporter": "python",
   "pygments_lexer": "ipython3",
   "version": "3.9.13"
  }
 },
 "nbformat": 4,
 "nbformat_minor": 5
}
